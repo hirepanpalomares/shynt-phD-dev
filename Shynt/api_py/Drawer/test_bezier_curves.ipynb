{
 "cells": [
  {
   "cell_type": "code",
   "execution_count": 70,
   "metadata": {},
   "outputs": [],
   "source": [
    "from PIL import Image, ImageDraw\n",
    "import math"
   ]
  },
  {
   "cell_type": "code",
   "execution_count": 71,
   "metadata": {},
   "outputs": [],
   "source": [
    "width = 700\n",
    "height = 700\n",
    "\n",
    "# Create a new image with white background\n",
    "img = Image.new('RGB', (width, height), color='white')\n",
    "\n",
    "# Create an ImageDraw object\n",
    "draw = ImageDraw.Draw(img)"
   ]
  },
  {
   "cell_type": "code",
   "execution_count": 72,
   "metadata": {},
   "outputs": [],
   "source": [
    "# x1, y1 = (20,10)\n",
    "# x1, y1 = (40,10)\n",
    "# x1, y1 = (20,10)\n",
    "# x1, y1 = (20,10)\n",
    "# x1, y1 = (20,10)\n",
    "\n",
    "\n",
    "# path_points = [(x1, y1), (x2, y2), (x3, y3), ...]"
   ]
  },
  {
   "cell_type": "code",
   "execution_count": 73,
   "metadata": {},
   "outputs": [],
   "source": [
    "def draw_mixed_path(draw, points, curve_segments=3, width=10, color='black'):\n",
    "  # Ensure at least two points to draw a segment\n",
    "  if len(points) < 2:\n",
    "    return\n",
    "\n",
    "  # Draw each segment of the path\n",
    "  for i in range(len(points) - 1):\n",
    "    x0, y0 = points[i]\n",
    "    x1, y1 = points[i + 1]\n",
    "\n",
    "    # Draw straight line segment\n",
    "    if i % 2 == 0:\n",
    "      draw.line([points[i], points[i + 1]], fill=(200,100,65), width=width)\n",
    "    # Draw Bezier curve segment\n",
    "    else:\n",
    "      # Calculate control points for Bezier curve (adjust as needed)\n",
    "      control1 = (x0 + (x1 - x0) // 2, y0)\n",
    "      control2 = (x0 + (x1 - x0) // 2, y1)\n",
    "\n",
    "      # Draw Bezier curve segment\n",
    "      for t in range(0, curve_segments + 1):\n",
    "        t /= curve_segments\n",
    "        cx = (1 - t)**3 * x0 + 3 * (1 - t)**2 * t * control1[0] + 3 * (1 - t) * t**2 * control2[0] + t**3 * x1\n",
    "        cy = (1 - t)**3 * y0 + 3 * (1 - t)**2 * t * control1[1] + 3 * (1 - t) * t**2 * control2[1] + t**3 * y1\n",
    "        draw.ellipse(\n",
    "          [cx - width/2, cy - width/2, cx + width/2, cy + width/2], \n",
    "          fill=(100,200,58), outline=(100,200,58)\n",
    "        )\n"
   ]
  },
  {
   "cell_type": "code",
   "execution_count": 74,
   "metadata": {},
   "outputs": [],
   "source": [
    "def draw_filled_mixed_polygon(\n",
    "    draw, points, curve_segments=10, outline_width=2, \n",
    "    outline_color='black', fill_color='blue'\n",
    "  ):\n",
    "  # Ensure at least three points to draw a polygon\n",
    "  if len(points) < 3:\n",
    "    return\n",
    "\n",
    "  # Draw the polygon outline with mixed segments\n",
    "  for i in range(len(points)):\n",
    "    x0, y0 = points[i]\n",
    "    x1, y1 = points[(i + 1) % len(points)]\n",
    "\n",
    "    # Draw straight line segment\n",
    "    if i % 2 == 0:\n",
    "      draw.line([points[i], points[(i + 1) % len(points)]], fill=outline_color, width=outline_width)\n",
    "    # Draw Bezier curve segment\n",
    "    else:\n",
    "      # Calculate control points for Bezier curve (adjust as needed)\n",
    "      control1 = (x0 + (x1 - x0) // 2, y0)\n",
    "      control2 = (x0 + (x1 - x0) // 2, y1)\n",
    "\n",
    "      # Draw Bezier curve segment\n",
    "      for t in range(0, curve_segments + 1):\n",
    "        t /= curve_segments\n",
    "        cx = (1 - t)**3 * x0 + 3 * (1 - t)**2 * t * control1[0] + 3 * (1 - t) * t**2 * control2[0] + t**3 * x1\n",
    "        cy = (1 - t)**3 * y0 + 3 * (1 - t)**2 * t * control1[1] + 3 * (1 - t) * t**2 * control2[1] + t**3 * y1\n",
    "        draw.ellipse([cx - outline_width/2, cy - outline_width/2, cx + outline_width/2, cy + outline_width/2], fill=outline_color)\n",
    "\n",
    "  # Fill the polygon with a solid color\n",
    "  draw.polygon(points, fill=fill_color)\n"
   ]
  },
  {
   "cell_type": "code",
   "execution_count": 75,
   "metadata": {},
   "outputs": [],
   "source": [
    "def draw_filled_curved_polygon(draw, points, curve_segments=10, outline_width=2, outline_color='black', fill_color='blue'):\n",
    "    # Ensure at least three points to draw a polygon\n",
    "    if len(points) < 3:\n",
    "        return\n",
    "\n",
    "    # Draw the polygon outline with curved segments\n",
    "    for i in range(len(points)):\n",
    "        # Current point\n",
    "        x0, y0 = points[i]\n",
    "\n",
    "        # Next point (loop back to the first point for the last segment)\n",
    "        x1, y1 = points[(i + 1) % len(points)]\n",
    "\n",
    "        # Calculate control points for Bezier curve (adjust as needed)\n",
    "        control1 = (x0 + (x1 - x0) // 2, y0)\n",
    "        control2 = (x0 + (x1 - x0) // 2, y1)\n",
    "\n",
    "        # Draw Bezier curve segment\n",
    "        for t in range(0, curve_segments + 1):\n",
    "            t /= curve_segments\n",
    "            cx = (1 - t)**3 * x0 + 3 * (1 - t)**2 * t * control1[0] + 3 * (1 - t) * t**2 * control2[0] + t**3 * x1\n",
    "            cy = (1 - t)**3 * y0 + 3 * (1 - t)**2 * t * control1[1] + 3 * (1 - t) * t**2 * control2[1] + t**3 * y1\n",
    "            draw.ellipse([cx - outline_width/2, cy - outline_width/2, cx + outline_width/2, cy + outline_width/2], fill=outline_color)\n",
    "    draw.polygon(points, fill=fill_color)  \n"
   ]
  },
  {
   "cell_type": "code",
   "execution_count": 76,
   "metadata": {},
   "outputs": [],
   "source": [
    "# Example path points\n",
    "path_points = [(500, 100), (200, 50), (300, 150), (400, 100)]\n",
    "polygon_points = [(100, 100), (200, 50), (300, 20), (400, 100)]\n",
    "\n",
    "# Draw the mixed path\n",
    "# draw_mixed_path(draw, path_points)\n",
    "# draw_filled_mixed_polygon(draw, polygon_points)\n",
    "draw_filled_curved_polygon(draw, polygon_points)\n",
    "\n",
    "# Save or display the image\n",
    "# Save or display the image\n",
    "# img.save('mixed_path.png')\n",
    "# img.save('mixed_polygon.png')\n",
    "img.save('filled_curved_polygon.png')\n",
    "\n",
    "# img.show()"
   ]
  },
  {
   "cell_type": "code",
   "execution_count": 77,
   "metadata": {},
   "outputs": [
    {
     "data": {
      "image/png": "[encoded data removed]",
      "text/plain": [
       "<Figure size 640x480 with 1 Axes>"
      ]
     },
     "metadata": {},
     "output_type": "display_data"
    }
   ],
   "source": [
    "import matplotlib.pyplot as plt\n",
    "from matplotlib.path import Path\n",
    "from matplotlib.patches import PathPatch\n",
    "\n",
    "# Define the points of the polygon\n",
    "polygon_points = [(1, 1), (2, 3), (4, 5), (7, 3), (5, 1)]\n",
    "\n",
    "# Define the codes for each point: MOVETO for the first point, LINETO for the rest\n",
    "codes = [Path.MOVETO] + [Path.CURVE4] * (len(polygon_points) - 1)\n",
    "\n",
    "# Create the Path object\n",
    "path = Path(polygon_points, codes)\n",
    "\n",
    "# Plotting\n",
    "fig, ax = plt.subplots()\n",
    "patch = PathPatch(path, facecolor='blue', edgecolor='black', alpha=0.5)\n",
    "ax.add_patch(patch)\n",
    "\n",
    "# Set limits and show plot\n",
    "ax.set_xlim(0, 8)\n",
    "ax.set_ylim(0, 6)\n",
    "ax.set_aspect('equal', adjustable='box')\n",
    "plt.show()"
   ]
  },
  {
   "cell_type": "code",
   "execution_count": 78,
   "metadata": {},
   "outputs": [
    {
     "data": {
      "image/png": "[encoded data removed]",
      "text/plain": [
       "<Figure size 640x480 with 1 Axes>"
      ]
     },
     "metadata": {},
     "output_type": "display_data"
    }
   ],
   "source": [
    "import matplotlib.pyplot as plt\n",
    "from matplotlib.path import Path\n",
    "from matplotlib.patches import PathPatch\n",
    "\n",
    "# Define points for the path\n",
    "points = [(1, 1), (2, 4), (4, 5), (7, 3), (5, 1)]\n",
    "\n",
    "# Define codes: MOVETO for the first point, LINETO for straight lines, CURVE3 for quadratic Bezier curves\n",
    "codes = [Path.MOVETO] + [Path.LINETO] * (len(points) - 1)\n",
    "\n",
    "# Insert a CURVE3 code in the middle for a curved segment\n",
    "codes[2] = Path.CURVE3\n",
    "\n",
    "# Create the Path object\n",
    "path = Path(points, codes)\n",
    "\n",
    "# Plotting\n",
    "fig, ax = plt.subplots()\n",
    "patch = PathPatch(path, facecolor='none', edgecolor='black')\n",
    "ax.add_patch(patch)\n",
    "\n",
    "# Set limits and show plot\n",
    "ax.set_xlim(0, 8)\n",
    "ax.set_ylim(0, 6)\n",
    "ax.set_aspect('equal', adjustable='box')\n",
    "plt.show()"
   ]
  },
  {
   "cell_type": "code",
   "execution_count": 80,
   "metadata": {},
   "outputs": [],
   "source": [
    "from PIL import Image, ImageDraw\n",
    "\n",
    "# Create a new image with white background\n",
    "width, height = 400, 400\n",
    "img = Image.new('RGB', (width, height), color='white')\n",
    "\n",
    "# Create an ImageDraw object\n",
    "draw = ImageDraw.Draw(img)\n",
    "\n",
    "# Define the bounding box: (left, top, right, bottom)\n",
    "bounding_box = [100, 100, 300, 300]\n",
    "\n",
    "# Define the start and end angles (in degrees)\n",
    "start_angle = 0\n",
    "end_angle = 90\n",
    "\n",
    "# Draw and fill the pie slice\n",
    "draw.pieslice(bounding_box, start=start_angle, end=end_angle, fill='blue', outline='black')\n",
    "\n",
    "# Save or display the image\n",
    "img.save('pie_slice.png')"
   ]
  },
  {
   "cell_type": "code",
   "execution_count": 81,
   "metadata": {},
   "outputs": [],
   "source": [
    "from PIL import Image, ImageDraw\n",
    "import math\n",
    "\n",
    "# Create a new image with white background\n",
    "width, height = 400, 400\n",
    "img = Image.new('RGB', (width, height), color='white')\n",
    "\n",
    "# Create an ImageDraw object\n",
    "draw = ImageDraw.Draw(img)\n",
    "\n",
    "# Center of the pie slice\n",
    "center = (200, 200)\n",
    "\n",
    "# Radii for the outer and inner arcs\n",
    "outer_radius = 100\n",
    "inner_radius = 50\n",
    "\n",
    "# Define the start and end angles (in degrees)\n",
    "start_angle = 0\n",
    "end_angle = 90\n",
    "\n",
    "# Function to convert polar coordinates to cartesian\n",
    "def polar_to_cartesian(center, radius, angle):\n",
    "    angle_rad = math.radians(angle)\n",
    "    return (center[0] + radius * math.cos(angle_rad), center[1] + radius * math.sin(angle_rad))\n",
    "\n",
    "# Points for the outer arc\n",
    "outer_points = [polar_to_cartesian(center, outer_radius, angle) for angle in range(start_angle, end_angle + 1)]\n",
    "\n",
    "# Points for the inner arc (reversed)\n",
    "inner_points = [polar_to_cartesian(center, inner_radius, angle) for angle in range(end_angle, start_angle - 1, -1)]\n",
    "\n",
    "# Combine the points to form the polygon\n",
    "slice_points = [center] + outer_points + inner_points\n",
    "\n",
    "# Draw and fill the pie slice\n",
    "draw.polygon(slice_points, fill='blue', outline='black')\n",
    "\n",
    "# Save or display the image\n",
    "img.save('pie_slice_with_two_radii.png')"
   ]
  }
 ],
 "metadata": {
  "kernelspec": {
   "display_name": "Python 3",
   "language": "python",
   "name": "python3"
  },
  "language_info": {
   "codemirror_mode": {
    "name": "ipython",
    "version": 3
   },
   "file_extension": ".py",
   "mimetype": "text/x-python",
   "name": "python",
   "nbconvert_exporter": "python",
   "pygments_lexer": "ipython3",
   "version": "3.8.10"
  }
 },
 "nbformat": 4,
 "nbformat_minor": 2
}
